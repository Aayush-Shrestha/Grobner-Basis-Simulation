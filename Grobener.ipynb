{
 "cells": [
  {
   "cell_type": "code",
   "execution_count": 1,
   "metadata": {
    "id": "dgIsdFD_w9j2"
   },
   "outputs": [],
   "source": [
    "import sympy as sp\n",
    "import matplotlib.pyplot as plt\n",
    "import numpy as np\n",
    "from matplotlib.lines import Line2D\n",
    "import itertools"
   ]
  },
  {
   "cell_type": "code",
   "execution_count": 2,
   "metadata": {
    "id": "xEn60CEBELoO"
   },
   "outputs": [],
   "source": [
    "def s_polynomial(f, g):\n",
    "    return sp.expand(sp.lcm(sp.LM(f), sp.LM(g))*(1/sp.LT(f)*f - 1/sp.LT(g)*g))\n",
    "\n",
    "def buchberger(F, reduce=True):\n",
    "    G, pairs = list(F), set([])\n",
    "\n",
    "    for f1f2 in itertools.combinations(F,2):\n",
    "        pairs.add((f1f2))\n",
    "\n",
    "    while pairs:\n",
    "        f1, f2 = pairs.pop()\n",
    "\n",
    "        s = s_polynomial(f1, f2)\n",
    "        _, h = sp.reduced(s, G)\n",
    "\n",
    "        if h != 0:\n",
    "            for g in G:\n",
    "                pairs.add((g, h))\n",
    "\n",
    "            G.append(h)\n",
    "\n",
    "    if reduce:\n",
    "        for i, g in enumerate(G):\n",
    "            Gi = G[i+1:] + G[:i]\n",
    "            Gi = [g for g in Gi if not g.is_zero]\n",
    "            _, G[i] = sp.reduced(g, Gi)\n",
    "        G = [g for g in G if not g.is_zero]\n",
    "        G = list(map(sp.monic, G))\n",
    "\n",
    "    return G"
   ]
  },
  {
   "cell_type": "code",
   "execution_count": 3,
   "metadata": {},
   "outputs": [
    {
     "name": "stdout",
     "output_type": "stream",
     "text": [
      "[x**2 + 2*x*y**2, x*y + 2*y**3 - 1, x, -4*y**4 + 2*y, 2*y**3 - 1]\n"
     ]
    }
   ],
   "source": [
    "x, y = sp.symbols('x y')\n",
    "F = [x**2 + 2*x*y**2, x*y + 2*y**3 - 1]\n",
    "G = buchberger(F, reduce=False)\n",
    "print(G)"
   ]
  },
  {
   "cell_type": "code",
   "execution_count": 4,
   "metadata": {},
   "outputs": [
    {
     "name": "stdout",
     "output_type": "stream",
     "text": [
      "[x, y**3 - 1/2]\n"
     ]
    }
   ],
   "source": [
    "B = buchberger(F, reduce=True)\n",
    "print(B)"
   ]
  },
  {
   "cell_type": "markdown",
   "metadata": {
    "id": "-rwk6scoGbSt"
   },
   "source": [
    "Find the key, $k$, used in encryption as cipher =  $(x+k)^3 + x*k$, where x is the plain text."
   ]
  },
  {
   "cell_type": "code",
   "execution_count": 5,
   "metadata": {
    "colab": {
     "base_uri": "https://localhost:8080/"
    },
    "id": "APdgZ7O6yE64",
    "outputId": "223191cd-5f9c-4046-c1fd-226fe8a0fd57"
   },
   "outputs": [
    {
     "name": "stdout",
     "output_type": "stream",
     "text": [
      "Plaintext: 5, Ciphertext: 1763\n",
      "\n",
      "Groebner Basis:\n",
      "k**3 + 15*k**2 + 80*k - 1638\n",
      "\n",
      "Recovered Key: [(7,), (-11 - sqrt(113)*I,), (-11 + sqrt(113)*I,)]\n"
     ]
    }
   ],
   "source": [
    "def polynomial_encrypt(plaintext, key):\n",
    "    return (plaintext + key)**3 + plaintext * key\n",
    "\n",
    "plaintext = 5\n",
    "key = 7\n",
    "ciphertext = polynomial_encrypt(plaintext, key)\n",
    "\n",
    "print(f\"Plaintext: {plaintext}, Ciphertext: {ciphertext}\")\n",
    "\n",
    "def groebner_basis_attack(ciphertext, plaintext):\n",
    "    k = sp.symbols('k')\n",
    "    x = sp.symbols('x')\n",
    "    y = sp.symbols('y')\n",
    "\n",
    "    f = (x + k)**3 + x * k - y\n",
    "\n",
    "    f_sub = f.subs({x: plaintext, y: ciphertext})\n",
    "\n",
    "    groebner_basis = sp.groebner([f_sub], k, order='lex')\n",
    "    return groebner_basis\n",
    "\n",
    "attack_basis = groebner_basis_attack(ciphertext, plaintext)\n",
    "print(\"\\nGroebner Basis:\")\n",
    "for poly in attack_basis:\n",
    "    print(poly)\n",
    "\n",
    "key_solutions = sp.solve(attack_basis, sp.symbols('k'))\n",
    "print(\"\\nRecovered Key:\", key_solutions)"
   ]
  },
  {
   "cell_type": "code",
   "execution_count": null,
   "metadata": {
    "id": "kghQlbp0x-sx"
   },
   "outputs": [],
   "source": []
  },
  {
   "cell_type": "markdown",
   "metadata": {
    "id": "upblebx_G5hy"
   },
   "source": [
    "\n",
    "Let's try to find the key, k, used in polynomial equation system encryption as cipher with <br>  $y_1 = (x+k)^3 + x*k$, and\n",
    "\n",
    "$y_2 = x^3+x*k^2$ where x is the plain text."
   ]
  },
  {
   "cell_type": "code",
   "execution_count": 6,
   "metadata": {
    "colab": {
     "base_uri": "https://localhost:8080/"
    },
    "id": "5jqN1TBuyKbI",
    "outputId": "f3513086-8042-4af8-93a2-f55d57cc2854"
   },
   "outputs": [
    {
     "name": "stdout",
     "output_type": "stream",
     "text": [
      "Plaintext: 5, Ciphertext y1: 1763, Ciphertext y2: 370\n",
      "\n",
      "Groebner Basis for the system of equations:\n",
      "k - 7\n",
      "\n",
      "Recovered Key: {k: 7}\n"
     ]
    }
   ],
   "source": [
    "def polynomial_encrypt_system(plaintext, key):\n",
    "    y1 = (plaintext + key)**3 + plaintext * key\n",
    "    y2 = (plaintext)**3 + plaintext * key * key\n",
    "    return y1, y2\n",
    "\n",
    "plaintext = 5\n",
    "key = 7\n",
    "y1, y2 = polynomial_encrypt_system(plaintext, key)\n",
    "\n",
    "print(f\"Plaintext: {plaintext}, Ciphertext y1: {y1}, Ciphertext y2: {y2}\")\n",
    "\n",
    "def groebner_basis_attack_system(ciphertext1, ciphertext2, plaintext):\n",
    "    k = sp.symbols('k')\n",
    "    x = sp.symbols('x')\n",
    "    y1, y2 = sp.symbols('y1 y2')\n",
    "\n",
    "    eq1 = (x + k)**3 + x * k - y1\n",
    "    eq2 = (x)**3 + x * k * k - y2\n",
    "\n",
    "    eq1_sub = eq1.subs({x: plaintext, y1: ciphertext1})\n",
    "    eq2_sub = eq2.subs({x: plaintext, y2: ciphertext2})\n",
    "\n",
    "    groebner_basis = sp.groebner([eq1_sub, eq2_sub], k, order='lex')\n",
    "    return groebner_basis\n",
    "\n",
    "groebner_basis_system = groebner_basis_attack_system(y1, y2, plaintext)\n",
    "\n",
    "print(\"\\nGroebner Basis for the system of equations:\")\n",
    "for poly in groebner_basis_system:\n",
    "    print(poly)\n",
    "\n",
    "key_solutions = sp.solve(groebner_basis_system, sp.symbols('k'))\n",
    "print(\"\\nRecovered Key:\", key_solutions)"
   ]
  },
  {
   "cell_type": "code",
   "execution_count": null,
   "metadata": {
    "id": "G6Yu2953yrO9"
   },
   "outputs": [],
   "source": []
  },
  {
   "cell_type": "markdown",
   "metadata": {
    "id": "ePvChaR-BV6Y"
   },
   "source": [
    "### Example\n",
    "Let's try to find the intersection of three curves, the sphere of radius 2 <br> i.e. $x^2 + y^2 + z^2 =4$, the cylinder $x^2 + 2y^2 = 5$, and the bilinear function $xz = 1$."
   ]
  },
  {
   "cell_type": "code",
   "execution_count": 7,
   "metadata": {
    "colab": {
     "base_uri": "https://localhost:8080/",
     "height": 410
    },
    "id": "lS8ah6NiBeOb",
    "outputId": "54e75cfe-0298-469a-9fe5-850c1cb17b27"
   },
   "outputs": [
    {
     "data": {
      "image/png": "[encoded data removed]",
      "text/plain": [
       "<Figure size 640x480 with 1 Axes>"
      ]
     },
     "metadata": {},
     "output_type": "display_data"
    }
   ],
   "source": [
    "fig = plt.figure()\n",
    "ax = plt.axes(projection='3d')\n",
    "\n",
    "# Draw sphere\n",
    "u = np.linspace(0, 2 * np.pi, 100)\n",
    "v = np.linspace(0, np.pi, 100)\n",
    "x1 = 2 * np.outer(np.cos(u), np.sin(v))\n",
    "y1 = 2 * np.outer(np.sin(u), np.sin(v))\n",
    "z1 = 2 * np.outer(np.ones(np.size(u)), np.cos(v))\n",
    "surf1 = ax.plot_surface(x1, y1, z1, color='b', alpha=0.3)\n",
    "\n",
    "# Draw cylinder\n",
    "z2 = np.linspace(-3, 3, 30)\n",
    "U, z2 = np.meshgrid(u, z2)\n",
    "x2 = np.sqrt(5) * np.cos(U)\n",
    "y2 = np.sqrt(5 / 2) * np.sin(U)\n",
    "surf2 = ax.plot_surface(x2, y2, z2, color='r', alpha=0.3)\n",
    "\n",
    "# Draw bilinear surface\n",
    "x3 = np.linspace(-3, 3, 30)\n",
    "y3 = np.linspace(-3, 3, 30)\n",
    "x3, y3 = np.meshgrid(x3, y3)\n",
    "z3 = 1 / (x3 + 1e-10)  # Prevent division by zero\n",
    "surf3 = ax.plot_surface(x3, y3, z3, color='g', alpha=0.3)\n",
    "\n",
    "\n",
    "legend_elements = [\n",
    "    Line2D([0], [0], color='b', lw=4, label=r'$x^2 + y^2 + z^2 =4$'),\n",
    "    Line2D([0], [0], color='r', lw=4, label=r'$x^2 + 2y^2 = 5$'),\n",
    "    Line2D([0], [0], color='g', lw=4, label=r'$xz = 1$')\n",
    "]\n",
    "\n",
    "ax.legend(handles=legend_elements, bbox_to_anchor=(1.05, 1), loc='upper left')\n",
    "\n",
    "ax.set_xlim(-3, 3)\n",
    "ax.set_ylim(-3, 3)\n",
    "ax.set_zlim(-3, 3)\n",
    "ax.set_xlabel(r'$x$')\n",
    "ax.set_ylabel(r'$y$')\n",
    "ax.set_zlabel(r'$z$')\n",
    "\n",
    "ax.view_init(30, 75)\n",
    "\n",
    "plt.show()"
   ]
  },
  {
   "cell_type": "code",
   "execution_count": 8,
   "metadata": {
    "colab": {
     "base_uri": "https://localhost:8080/"
    },
    "id": "1QrnisNKBi1-",
    "outputId": "7fdb158f-8588-47cd-fbe8-7a71ed6f9cb7"
   },
   "outputs": [
    {
     "name": "stdout",
     "output_type": "stream",
     "text": [
      "[x**2 + y**2 + z**2 - 4, x**2 + 2*y**2 - 5, x*z - 1]\n"
     ]
    }
   ],
   "source": [
    "x, y, z = sp.symbols('x y z')\n",
    "eqs = [x**2 + y**2 + z**2 - 4 , x**2 + 2*y**2 - 5, x*z - 1]\n",
    "print(eqs)"
   ]
  },
  {
   "cell_type": "code",
   "execution_count": 9,
   "metadata": {
    "colab": {
     "base_uri": "https://localhost:8080/"
    },
    "id": "R4l-ICz2Dly7",
    "outputId": "8d84a2e9-c35d-4371-9467-eaf5e27131f2"
   },
   "outputs": [
    {
     "data": {
      "text/plain": [
       "[x + 2*z**3 - 3*z, y**2 - z**2 - 1, 2*z**4 - 3*z**2 + 1]"
      ]
     },
     "execution_count": 9,
     "metadata": {},
     "output_type": "execute_result"
    }
   ],
   "source": [
    "result = sp.groebner(eqs, x, y, z, order='lex')\n",
    "list(result)"
   ]
  },
  {
   "cell_type": "code",
   "execution_count": 10,
   "metadata": {
    "colab": {
     "base_uri": "https://localhost:8080/"
    },
    "id": "HO1Bd4nBDtsd",
    "outputId": "373d2056-3231-4677-c75e-90badc9c8732"
   },
   "outputs": [
    {
     "name": "stdout",
     "output_type": "stream",
     "text": [
      "[-1, 1, -sqrt(2)/2, sqrt(2)/2]\n"
     ]
    }
   ],
   "source": [
    "z_ans = sp.solve(list(result)[-1], z)\n",
    "print(z_ans)"
   ]
  },
  {
   "cell_type": "code",
   "execution_count": 11,
   "metadata": {
    "colab": {
     "base_uri": "https://localhost:8080/"
    },
    "id": "fMIO1OpID15M",
    "outputId": "b2454b45-090d-48c8-a0f8-b7ffe89d55e5"
   },
   "outputs": [
    {
     "name": "stdout",
     "output_type": "stream",
     "text": [
      "[[-sqrt(2), sqrt(2)], [-sqrt(2), sqrt(2)], [-sqrt(6)/2, sqrt(6)/2], [-sqrt(6)/2, sqrt(6)/2]]\n"
     ]
    }
   ],
   "source": [
    "y_ans = []\n",
    "for zs in z_ans:\n",
    "    y_ans.append(sp.solve(list(result)[1].subs(z, zs)))\n",
    "print(y_ans)\n",
    "y_ans_1 = np.array([float(item[0].evalf()) for item in y_ans])\n",
    "y_ans_2 = np.array([float(item[1].evalf()) for item in y_ans])"
   ]
  },
  {
   "cell_type": "code",
   "execution_count": 12,
   "metadata": {
    "colab": {
     "base_uri": "https://localhost:8080/"
    },
    "id": "XpizWTwQD8L_",
    "outputId": "17f22ec6-776d-4d64-d8ff-e7a17572fb33"
   },
   "outputs": [
    {
     "name": "stdout",
     "output_type": "stream",
     "text": [
      "[-1, 1, -sqrt(2), sqrt(2)]\n"
     ]
    }
   ],
   "source": [
    "x_ans = []\n",
    "for zs in z_ans:\n",
    "    x_ans.append(sp.solve(list(result)[0].subs(z, zs)))\n",
    "x_ans = [item for sublist in x_ans for item in sublist]\n",
    "print(x_ans)"
   ]
  },
  {
   "cell_type": "code",
   "execution_count": 13,
   "metadata": {
    "colab": {
     "base_uri": "https://localhost:8080/"
    },
    "id": "esz2lirhEBtl",
    "outputId": "598e623c-5ce3-4f26-db91-087ad47564f7"
   },
   "outputs": [
    {
     "data": {
      "text/plain": [
       "[{x: -1, y: -sqrt(2), z: -1},\n",
       " {x: -1, y: sqrt(2), z: -1},\n",
       " {x: 1, y: -sqrt(2), z: 1},\n",
       " {x: 1, y: sqrt(2), z: 1},\n",
       " {x: -sqrt(2), y: -sqrt(6)/2, z: -sqrt(2)/2},\n",
       " {x: -sqrt(2), y: sqrt(6)/2, z: -sqrt(2)/2},\n",
       " {x: sqrt(2), y: -sqrt(6)/2, z: sqrt(2)/2},\n",
       " {x: sqrt(2), y: sqrt(6)/2, z: sqrt(2)/2}]"
      ]
     },
     "execution_count": 13,
     "metadata": {},
     "output_type": "execute_result"
    }
   ],
   "source": [
    "sp.solve(eqs)"
   ]
  },
  {
   "cell_type": "code",
   "execution_count": null,
   "metadata": {
    "id": "RP0RAhWhEGv_"
   },
   "outputs": [],
   "source": []
  },
  {
   "cell_type": "markdown",
   "metadata": {
    "id": "CTqoMCQShLl1"
   },
   "source": [
    "Let's try to find the intersection of six polynomial curves (or surfaces):\n",
    "\n",
    "1. $(x + k)^5 + x^4 k^2 + k^3 + xk = y_1$\n",
    "\n",
    "2. $   x^5 + x^3 k^2 + x^2 k + k^4 = y_2$\n",
    "\n",
    "3. $x^4 + k^2 x k + x k^3 = y_3$\n",
    "\n",
    "4. $k^5 + x^3 k + x^2 k^3 + x k^2 = y_4$\n",
    "\n",
    "5. $(x + k)^4 + x^3 k + k^3 + x^2 k^2 = y_5$\n",
    "\n",
    "6. $x^5 + k^4 + x k^3 + k^2 x^2 = y_6$\n",
    "\n",
    "We will solve for $k$, the unknown, by finding the intersection of these six curves.\n"
   ]
  },
  {
   "cell_type": "code",
   "execution_count": 14,
   "metadata": {
    "colab": {
     "base_uri": "https://localhost:8080/"
    },
    "id": "jIQ5UV2_E5LW",
    "outputId": "8c5e372b-604c-454d-852a-543318270f1f"
   },
   "outputs": [
    {
     "name": "stdout",
     "output_type": "stream",
     "text": [
      "Plaintext: 5\n",
      "Ciphertexts: y1: 279835, y2: 11826, y3: 4055, y4: 26502, y5: 23179, y6: 8466\n",
      "\n",
      "Groebner Basis for the system of equations:\n",
      "k - 7\n",
      "\n",
      "Recovered Key: {k: 7}\n"
     ]
    }
   ],
   "source": [
    "def polynomial_encrypt_system(plaintext, key):\n",
    "    y1 = (plaintext + key)**5 + plaintext**4 * key**2 + key**3 + plaintext * key\n",
    "    y2 = (plaintext)**5 + plaintext**3 * key**2 + plaintext**2 * key + key**4\n",
    "    y3 = plaintext**4 + key**2 * plaintext * key + plaintext * key**3\n",
    "    y4 = key**5 + plaintext**3 * key + plaintext**2 * key**3 + plaintext * key**2\n",
    "    y5 = (plaintext + key)**4 + plaintext**3 * key + key**3 + plaintext**2 * key**2\n",
    "    y6 = plaintext**5 + key**4 + plaintext * key**3 + key**2 * plaintext**2\n",
    "    return y1, y2, y3, y4, y5, y6\n",
    "\n",
    "plaintext = 5\n",
    "key = 7\n",
    "y1, y2, y3, y4, y5, y6 = polynomial_encrypt_system(plaintext, key)\n",
    "\n",
    "print(f\"Plaintext: {plaintext}\")\n",
    "print(f\"Ciphertexts: y1: {y1}, y2: {y2}, y3: {y3}, y4: {y4}, y5: {y5}, y6: {y6}\")\n",
    "\n",
    "def groebner_basis_attack_system(ciphertexts, plaintext):\n",
    "    k = sp.symbols('k')\n",
    "    x = sp.symbols('x')\n",
    "    y1, y2, y3, y4, y5, y6 = sp.symbols('y1 y2 y3 y4 y5 y6')\n",
    "\n",
    "    eq1 = (x + k)**5 + x**4 * k**2 + k**3 + x * k - y1\n",
    "    eq2 = x**5 + x**3 * k**2 + x**2 * k + k**4 - y2\n",
    "    eq3 = x**4 + k**2 * x * k + x * k**3 - y3\n",
    "    eq4 = k**5 + x**3 * k + x**2 * k**3 + x * k**2 - y4\n",
    "    eq5 = (x + k)**4 + x**3 * k + k**3 + x**2 * k**2 - y5\n",
    "    eq6 = x**5 + k**4 + x * k**3 + k**2 * x**2 - y6\n",
    "\n",
    "    eq1_sub = eq1.subs({x: plaintext, y1: ciphertexts[0]})\n",
    "    eq2_sub = eq2.subs({x: plaintext, y2: ciphertexts[1]})\n",
    "    eq3_sub = eq3.subs({x: plaintext, y3: ciphertexts[2]})\n",
    "    eq4_sub = eq4.subs({x: plaintext, y4: ciphertexts[3]})\n",
    "    eq5_sub = eq5.subs({x: plaintext, y5: ciphertexts[4]})\n",
    "    eq6_sub = eq6.subs({x: plaintext, y6: ciphertexts[5]})\n",
    "\n",
    "    groebner_basis = sp.groebner([eq1_sub, eq2_sub, eq3_sub, eq4_sub, eq5_sub, eq6_sub], k, order='lex')\n",
    "    return groebner_basis\n",
    "\n",
    "groebner_basis_system = groebner_basis_attack_system([y1, y2, y3, y4, y5, y6], plaintext)\n",
    "\n",
    "print(\"\\nGroebner Basis for the system of equations:\")\n",
    "for poly in groebner_basis_system:\n",
    "    print(poly)\n",
    "\n",
    "key_solutions = sp.solve(groebner_basis_system, sp.symbols('k'))\n",
    "print(\"\\nRecovered Key:\", key_solutions)\n"
   ]
  },
  {
   "cell_type": "code",
   "execution_count": null,
   "metadata": {
    "id": "kyKrVev3g2BY"
   },
   "outputs": [],
   "source": []
  },
  {
   "cell_type": "code",
   "execution_count": 15,
   "metadata": {},
   "outputs": [
    {
     "name": "stdout",
     "output_type": "stream",
     "text": [
      "[x**2 + 7*x*y + y**2 - 2*y, x + y**3 - 3]\n"
     ]
    }
   ],
   "source": [
    "x, y = sp.symbols('x y')\n",
    "eqs = [x**2 + y**2 + 7*x*y -2*y , x + y**3 - 3]\n",
    "print(eqs)"
   ]
  },
  {
   "cell_type": "code",
   "execution_count": 16,
   "metadata": {},
   "outputs": [
    {
     "data": {
      "text/plain": [
       "[x + y**3 - 3, y**6 - 7*y**4 - 6*y**3 + y**2 + 19*y + 9]"
      ]
     },
     "execution_count": 16,
     "metadata": {},
     "output_type": "execute_result"
    }
   ],
   "source": [
    "result = sp.groebner(eqs, x, y, order='lex')\n",
    "list(result)"
   ]
  },
  {
   "cell_type": "code",
   "execution_count": 17,
   "metadata": {},
   "outputs": [
    {
     "name": "stdout",
     "output_type": "stream",
     "text": [
      "[x**2 + 7*x*y + y**2 - 2*y, x + y**3 - 3, y**6 - 7*y**4 - 6*y**3 + y**2 + 19*y + 9]\n"
     ]
    }
   ],
   "source": [
    "G = buchberger(eqs, reduce=False)\n",
    "print(G)"
   ]
  },
  {
   "cell_type": "code",
   "execution_count": 18,
   "metadata": {},
   "outputs": [
    {
     "name": "stdout",
     "output_type": "stream",
     "text": [
      "[x + y**3 - 3, y**6 - 7*y**4 - 6*y**3 + y**2 + 19*y + 9]\n"
     ]
    }
   ],
   "source": [
    "G = buchberger(eqs, reduce=True)\n",
    "print(G)"
   ]
  },
  {
   "cell_type": "code",
   "execution_count": null,
   "metadata": {},
   "outputs": [],
   "source": []
  },
  {
   "cell_type": "code",
   "execution_count": 19,
   "metadata": {},
   "outputs": [],
   "source": [
    "import sympy as sp\n",
    "import numpy as np\n",
    "from sympy import symbols, Poly"
   ]
  },
  {
   "cell_type": "code",
   "execution_count": 20,
   "metadata": {},
   "outputs": [],
   "source": [
    "def phi_func(vector):\n",
    "    d = sp.symbols('delta')\n",
    "    result = 0\n",
    "    for i, poly in enumerate(vector):\n",
    "        result += poly * (d ** i)\n",
    "    return result"
   ]
  },
  {
   "cell_type": "code",
   "execution_count": 21,
   "metadata": {},
   "outputs": [],
   "source": [
    "def phi_inv(single_poly):\n",
    "    d = sp.symbols('delta')\n",
    "    result = []\n",
    "    \n",
    "    terms = single_poly.as_ordered_terms()\n",
    "    #print(terms)\n",
    "    constant_terms = 0\n",
    "    for term in terms:\n",
    "     #   print(f\"Processing term: {term}\")\n",
    "        if term.has(d):\n",
    "            while term.has(d):  \n",
    "                coefficient = term.as_coefficients_dict().get(d, 1)  \n",
    "                term = term / d  \n",
    "                # print(f\"Polynomial part without delta: {term}\")\n",
    "            \n",
    "            result.append(term)\n",
    "        else:\n",
    "            constant_terms += term\n",
    "    result.append(constant_terms)\n",
    "    \n",
    "    return result"
   ]
  },
  {
   "cell_type": "code",
   "execution_count": 22,
   "metadata": {},
   "outputs": [],
   "source": [
    "def create_invertible_matrix(n):\n",
    "    matrix = np.random.randint(0, 2, (n, n))\n",
    "    while np.linalg.det(matrix) == 0:\n",
    "        matrix = np.random.randint(0, 2, (n, n))\n",
    "    return sp.Matrix(matrix)"
   ]
  },
  {
   "cell_type": "code",
   "execution_count": 23,
   "metadata": {},
   "outputs": [],
   "source": [
    "def reduce_mod_delta(poly, modulus, variable):\n",
    "    \"\"\"Reduce a polynomial modulo a given modulus.\"\"\"\n",
    "    poly = sp.Poly(poly, variable)\n",
    "    modulus = sp.Poly(modulus, variable)\n",
    "    _, remainder = divmod(poly, modulus)\n",
    "    \n",
    "    return remainder.as_expr()\n",
    "\n",
    "def Central_F(poly):\n",
    "    d = sp.symbols('delta')\n",
    "    poly = poly**3 + poly + poly**2 + 1\n",
    "    modulus = d**3 + d**2 + 1\n",
    "    \n",
    "    reduced_poly = reduce_mod_delta(poly.expand(), modulus, d)\n",
    "    \n",
    "    return reduced_poly\n",
    "\n",
    "# Example Usage\n",
    "# delta, x1, x2 = sp.symbols('delta x1 x2')\n",
    "# poly = delta * x2 + x1\n",
    "# reduced = Central_F(poly)\n",
    "# print(\"Reduced Polynomial:\", reduced)"
   ]
  },
  {
   "cell_type": "code",
   "execution_count": 24,
   "metadata": {},
   "outputs": [],
   "source": [
    "def encrypt_message(n, m):\n",
    "    x = sp.Matrix([sp.symbols(f'x{i}') for i in range(1, n+1)])  # x1, x2, ..., xn\n",
    "    \n",
    "    A = create_invertible_matrix(n)\n",
    "    \n",
    "    C = create_invertible_matrix(m)\n",
    "    \n",
    "    b = sp.Matrix(np.random.choice([0, 1], size=n))  \n",
    "    d = sp.Matrix(np.random.choice([0, 1], size=m))      \n",
    "    \n",
    "    T = A * x + b \n",
    "\n",
    "    Y = phi_func(T)\n",
    "    \n",
    "    Z = Central_F(Y)\n",
    "\n",
    "    z = sp.Matrix(phi_inv(Z))\n",
    "    \n",
    "    S = C * z + d\n",
    "    p = sp.Matrix(S)  # Final ciphertext\n",
    "    \n",
    "    # Public key as the polynomial set S(F(T(x)))\n",
    "    public_key = p\n",
    "    return public_key\n"
   ]
  },
  {
   "cell_type": "code",
   "execution_count": 25,
   "metadata": {},
   "outputs": [
    {
     "name": "stdout",
     "output_type": "stream",
     "text": [
      "\n",
      "Public Key (S(F(T(x)))):\n",
      "Matrix([[-x1**3 - 3*x1**2 + 3*x1*x2**2 - 6*x1*x2*x3 - 4*x1*x2 - 2*x1*x3 - 4*x1 + x2**3 + 4*x2**2 - 6*x2*x3 - 3*x2 + x3**3 + 3*x3**2 + x3 + 1], [-2*x1**3 + 3*x1**2*x2 + 6*x1**2*x3 + x1**2 - 12*x1*x2*x3 - 6*x1*x2 - 9*x1*x3**2 - 10*x1*x3 - 5*x1 + x2**3 + 3*x2**2*x3 + 4*x2**2 + 6*x2*x3**2 + 2*x2*x3 + 5*x3**3 + 8*x3**2 + 4*x3 + 2], [-x1**3 + 3*x1**2*x3 - 6*x1*x2*x3 - 6*x1*x2 - 3*x1*x3**2 - 2*x1*x3 - 2*x1 + x2**3 + x2**2 + 3*x2*x3**2 - 2*x2 + 2*x3**3 + 4*x3**2 + 3*x3 + 2]])\n"
     ]
    }
   ],
   "source": [
    "\n",
    "# Function to display the encryption process\n",
    "def show_encryption(n, m):\n",
    "    public_key = encrypt_message(n, m)\n",
    "    \n",
    "    print(\"\\nPublic Key (S(F(T(x)))):\")\n",
    "    print(public_key)\n",
    "    return public_key\n",
    "\n",
    "n = 3  # Length of message vector x\n",
    "m = 3  # Length of cipher text vector z\n",
    "\n",
    "key = show_encryption(n, m)\n"
   ]
  },
  {
   "cell_type": "code",
   "execution_count": 34,
   "metadata": {},
   "outputs": [
    {
     "name": "stdout",
     "output_type": "stream",
     "text": [
      "Matrix([[-6], [22], [-4]])\n"
     ]
    }
   ],
   "source": [
    "def encrypt(x1_val,x2_val,x3_val,key):\n",
    "    x1, x2, x3 = symbols('x1 x2 x3')\n",
    "    evaluated_matrix = key.subs({x1: x1_val, x2: x2_val, x3: x3_val})\n",
    "    return evaluated_matrix\n",
    "\n",
    "cipher = encrypt(1,2,1,key)\n",
    "print(encrypt(1,2,1,key))"
   ]
  },
  {
   "cell_type": "code",
   "execution_count": 35,
   "metadata": {},
   "outputs": [],
   "source": [
    "#groebener basis attack"
   ]
  },
  {
   "cell_type": "code",
   "execution_count": 36,
   "metadata": {},
   "outputs": [],
   "source": [
    "p1 = key[0]\n",
    "p2 = key[1]\n",
    "p3 = key[2]"
   ]
  },
  {
   "cell_type": "code",
   "execution_count": 37,
   "metadata": {},
   "outputs": [],
   "source": [
    "c1 = cipher[0]\n",
    "c2 = cipher[1]\n",
    "c3 = cipher[2]"
   ]
  },
  {
   "cell_type": "code",
   "execution_count": 38,
   "metadata": {},
   "outputs": [],
   "source": [
    "eq1 = p1 - c1\n",
    "eq2 = p2 - c2\n",
    "eq3 = p3 - c3\n",
    "x1, x2, x3 = symbols('x1 x2 x3')"
   ]
  },
  {
   "cell_type": "code",
   "execution_count": 39,
   "metadata": {},
   "outputs": [
    {
     "name": "stdout",
     "output_type": "stream",
     "text": [
      "CPU times: total: 57.9 s\n",
      "Wall time: 1min 32s\n"
     ]
    }
   ],
   "source": [
    "%%time\n",
    "grobner_basis = sp.groebner([eq1, eq2, eq3], [x1, x2, x3], domain=\"QQ\")"
   ]
  },
  {
   "cell_type": "code",
   "execution_count": 40,
   "metadata": {},
   "outputs": [
    {
     "name": "stdout",
     "output_type": "stream",
     "text": [
      "CPU times: total: 31.2 ms\n",
      "Wall time: 181 ms\n"
     ]
    }
   ],
   "source": [
    "%%time\n",
    "solutions = sp.solve(grobner_basis, (x1, x2, x3))"
   ]
  },
  {
   "cell_type": "code",
   "execution_count": 41,
   "metadata": {},
   "outputs": [
    {
     "name": "stdout",
     "output_type": "stream",
     "text": [
      "Gröbner Basis:\n",
      "x1 + 17365482453803305206084202936666609317206001052176946166888673404282414025980511139580009598808891972805449880970946257742018285379588*x3**26/12360254470677776329416935406229254625721298357784973373661680346467214385326917226328440827932954517880531818933893907280943534596673517 + 430669177621060379257349474814248473318588762640119131579704823540055904553977033043630634835829195549501698265813586710715541331381227*x3**25/12360254470677776329416935406229254625721298357784973373661680346467214385326917226328440827932954517880531818933893907280943534596673517 + 5103071847297400355236592526782295793927101817490376895853961835036562314146818449405363121905058874371569271239942273116601192690131695*x3**24/12360254470677776329416935406229254625721298357784973373661680346467214385326917226328440827932954517880531818933893907280943534596673517 + 1166651351975057917153854484161666008763889833171217111194856569723081938310451731072678804841765975512604984493855781015638847714297958*x3**23/374553165778114434224755618370583473506706010841968890110960010499006496525058097767528509937362258117591873301027088099422531351414349 + 2100030316811948883054393859575081527449650509891884252209181373176061317130430973073660159007371756507365588540160975456770677615924757*x3**22/124851055259371478074918539456861157835568670280656296703653336833002165508352699255842836645787419372530624433675696033140843783804783 + 856320105119119494504716507428859841349639939846352638559987018871064558234342297558178424888519300077997764853507296078610980414695196402*x3**21/12360254470677776329416935406229254625721298357784973373661680346467214385326917226328440827932954517880531818933893907280943534596673517 + 96551654435314225279896172612296549975635652046802272962942024469743806118312724136058976614511146816069845177386068401772481568061217457*x3**20/426215671402681942393687427801008780197286150268447357712471736085076358114721283666497959583894983375190752377030824388998052917126673 + 7480445458094284375759446741862342940433008608547842974693953412790220248807661636184107310431311066654083434643761728087359344668908863279*x3**19/12360254470677776329416935406229254625721298357784973373661680346467214385326917226328440827932954517880531818933893907280943534596673517 + 16733791002754979417851716078376308602611470847465080065039172144720345479072427706422101306929987073525125756563466278471065616915504552344*x3**18/12360254470677776329416935406229254625721298357784973373661680346467214385326917226328440827932954517880531818933893907280943534596673517 + 32069922137669368325902471609255325717234536132251956289835057906096436882783668944379990768106353067511147614080486045307495902526632705846*x3**17/12360254470677776329416935406229254625721298357784973373661680346467214385326917226328440827932954517880531818933893907280943534596673517 + 4855575284034267723858636808911812135646279985868770887443253582552527216812329272179054872630108306882964233263946832827438445286748479339*x3**16/1123659497334343302674266855111750420520118032525906670332880031497019489575174293302585529812086774352775619903081264298267594054243047 + 75975601024321407371299936941883732359876882041360830222555272762835666924609626654944694519201706696392854402329232078395610489463558150652*x3**15/12360254470677776329416935406229254625721298357784973373661680346467214385326917226328440827932954517880531818933893907280943534596673517 + 27964955284843370331523669342782296700950598497341492725969622924906670221740054916279385605613880695585809829433995078797193392397241368276*x3**14/4120084823559258776472311802076418208573766119261657791220560115489071461775639075442813609310984839293510606311297969093647844865557839 + 15981273121466547650349530638471807900258677272895738946402483748343869589708462099530602550959081838186950795900672044269949716637793274279*x3**13/4120084823559258776472311802076418208573766119261657791220560115489071461775639075442813609310984839293510606311297969093647844865557839 - 54220221406899528930022584387831256107444897678224489361384467696723613397130756482731560281479309228488544762117784754739567528280185158743*x3**12/12360254470677776329416935406229254625721298357784973373661680346467214385326917226328440827932954517880531818933893907280943534596673517 - 17834875401494407000871663999843465759551467262014386982647436532997969424962650662911591710564976337187365621326207738138698355783650794796*x3**11/1123659497334343302674266855111750420520118032525906670332880031497019489575174293302585529812086774352775619903081264298267594054243047 - 26239377858800784824357808580967455820816929678833221234169056460872042452865661108953622100026737844009976330780965581187677492594510532314*x3**10/1123659497334343302674266855111750420520118032525906670332880031497019489575174293302585529812086774352775619903081264298267594054243047 - 26866855717110820863742483952643418014018430114927704729699895429589998715681396981036199472573733933953441729199492308823006100101040438494*x3**9/1373361607853086258824103934025472736191255373087219263740186705163023820591879691814271203103661613097836868770432656364549281621852613 - 646824810330818728599575090151698149176753076231570441542623910458500796852872165397229060057850889856020133928169274348993385129373732344138*x3**8/127722629530337022070641665864368964465786749697111391527837363580161215315044811338727221888640530018098828795650237041903083190832293009 + 4035026556279425019033124848019593380316287704955524091731249415764004759643272555304714812111237754562590161636111725177084958627771319153818*x3**7/383167888591011066211924997593106893397360249091334174583512090740483645945134434016181665665921590054296486386950711125709249572496879027 + 2184837263654877223603324818213290291406124220326757037148237399727762637918305450627758085169491962257949989410883214222197146458021539767137*x3**6/127722629530337022070641665864368964465786749697111391527837363580161215315044811338727221888640530018098828795650237041903083190832293009 + 172650887368830539384713202919794827504440340561148285957756696281709304273898919480553911144638628940568981483889488362941256247618193180501*x3**5/13212685813483140214204310261831272186115870658321868089086623818637367101556359793661436747100744484630913323687955556058939640430926863 + 632328392263124578831659593489463852526048678687326287942932239702752398831951338700384361537612266226084000298423044782058135871024068555942*x3**4/127722629530337022070641665864368964465786749697111391527837363580161215315044811338727221888640530018098828795650237041903083190832293009 - 63729709225075472919683444654747867813850371064927097706455042058214403514899539106982810834002865798740074816498361095815563056061476731755*x3**3/127722629530337022070641665864368964465786749697111391527837363580161215315044811338727221888640530018098828795650237041903083190832293009 - 24729858318601753007900511079460412084763491348781875252742155763174514456070530619905268614859800463713598802658017820120370704015668640132*x3**2/14191403281148558007849073984929884940642972188567932391981929286684579479449423482080802432071170002010980977294470782433675910092477001 - 13525820821001982148912906976336066665434138969837148110795833230962190824970468244080341280858644880516684006177926468945111773546194152034*x3/14191403281148558007849073984929884940642972188567932391981929286684579479449423482080802432071170002010980977294470782433675910092477001 - 370391376392416582026610727563173161998326876279929188424921033597358509288429928229110753360049387966429638081974477355961623866665692/1628014601485437422031556038193172529613740069813919053800840803795408911259541525992979514978911322933461165228228838182135586795053\n",
      "x2 - 6283218630055427046051577773471097316144335446615575299645139401286722003524860100831605921699237042716017353407939173930877460525579*x3**26/12360254470677776329416935406229254625721298357784973373661680346467214385326917226328440827932954517880531818933893907280943534596673517 - 438945635004105055694432458029841674520596671930657519344431842032179500869383517015212076812582892982264151157072421273236188167022901*x3**25/24720508941355552658833870812458509251442596715569946747323360692934428770653834452656881655865909035761063637867787814561887069193347034 - 6907822972191687179465202112473874463143770070588289818685819665946101969184656144278755551635712612333895471332593372711695272764971467*x3**24/24720508941355552658833870812458509251442596715569946747323360692934428770653834452656881655865909035761063637867787814561887069193347034 - 112376903029585514128290752212942033539086103059156152841484262237539644708513223522709120235825815909313038536938139455213192574376342*x3**23/41617018419790492691639513152287052611856223426885432234551112277667388502784233085280945548595806457510208144558565344380281261268261 - 2276632888153222857088890610150985147792869585896774637495368448018508926857170304123081989006503892553705347620558044280484544393107177*x3**22/124851055259371478074918539456861157835568670280656296703653336833002165508352699255842836645787419372530624433675696033140843783804783 - 1142112927847830513537773323109720363532010696814225927044771644889082456717806211925659918605492767556318602985891202794772710155061632161*x3**21/12360254470677776329416935406229254625721298357784973373661680346467214385326917226328440827932954517880531818933893907280943534596673517 - 4542046191581851237207736132093257226012718135605885781385382507888043939048266514628327436407380107405750513282949440331721031052168883339*x3**20/12360254470677776329416935406229254625721298357784973373661680346467214385326917226328440827932954517880531818933893907280943534596673517 - 29249137305961306861453437644666679797397259286702268562221648809816499786402695045422323241217743636336058274218926799275327714074055174351*x3**19/24720508941355552658833870812458509251442596715569946747323360692934428770653834452656881655865909035761063637867787814561887069193347034 - 78111162288122007668552762785096434198438792858458423570358882676789677335883650171334658845183364595029785872793337135993504496522059093573*x3**18/24720508941355552658833870812458509251442596715569946747323360692934428770653834452656881655865909035761063637867787814561887069193347034 - 88366822376060904284450339062241140463308334319273879425743047221377001688614320187060922982116481271855190297211618153918020305859099331342*x3**17/12360254470677776329416935406229254625721298357784973373661680346467214385326917226328440827932954517880531818933893907280943534596673517 - 31399079760081886859810755564891653982242941930443687923831489120841712492235139358692041275703417683883815119500202702843399662126288332497*x3**16/2247318994668686605348533710223500841040236065051813340665760062994038979150348586605171059624173548705551239806162528596535188108486094 - 294777340337798790898689645915023671735899762094726496799503164733640268016539435805970196286986635535347814603563400131698203362990571548622*x3**15/12360254470677776329416935406229254625721298357784973373661680346467214385326917226328440827932954517880531818933893907280943534596673517 - 48175616466553208694060546790107925184010114542780430540435321828145771066715353730224042408761943706912157992887123069840625173041367966459*x3**14/1373361607853086258824103934025472736191255373087219263740186705163023820591879691814271203103661613097836868770432656364549281621852613 - 342301351817765442906671638803204352514319655663796909758031393401103572791813802840101960623002883991899488412528416797483471331446989913257*x3**13/8240169647118517552944623604152836417147532238523315582441120230978142923551278150885627218621969678587021212622595938187295689731115678 - 777551950658670279676469551660960562799680364727615187117374675201471812348780119349801353959213875303068050961852273674940488578129560609809*x3**12/24720508941355552658833870812458509251442596715569946747323360692934428770653834452656881655865909035761063637867787814561887069193347034 + 634640706352323342527572527885996343338018659853723709914315663106098341569131778830127501621594942059747585372257834171894792774986163426*x3**11/102150863394031209334024259555613674592738002956900606393898184681547226325015844845689593619280615850252329082098296754387963095840277 + 149121696930667072905194734861478514847771613124932230876688490592552326659214939607255092792747583000716797238594794746281952684205991278911*x3**10/2247318994668686605348533710223500841040236065051813340665760062994038979150348586605171059624173548705551239806162528596535188108486094 + 488423508888905353112221272993712265058146108579334382477921591240595882415494124651281583459856407492833921788589078783296716876541818204890*x3**9/4120084823559258776472311802076418208573766119261657791220560115489071461775639075442813609310984839293510606311297969093647844865557839 + 31654361743264573619319670480223675528689114612217746129364264165336082111851774579790229374163715812754326646550791518314765092793698611196885*x3**8/255445259060674044141283331728737928931573499394222783055674727160322430630089622677454443777281060036197657591300474083806166381664586018 + 54359412126943351428092704654791881255880644855448525624150702905113486887052509986389207173431971804687517915080698541411822512956159896350611*x3**7/766335777182022132423849995186213786794720498182668349167024181480967291890268868032363331331843180108592972773901422251418499144993758054 - 234322390956327935807688138150786702745758800958878284020485744746521284746801811466220626121746608553461747163947848528316284261640635978491*x3**6/28382806562297116015698147969859769881285944377135864783963858573369158958898846964161604864142340004021961954588941564867351820184954002 - 24721738911991324645609137828817113091315699275636808256337303366846265174546400512789277001241170032442287505382133535690162783637054852114549*x3**5/383167888591011066211924997593106893397360249091334174583512090740483645945134434016181665665921590054296486386950711125709249572496879027 - 9454751554068044902907211833547884709029843031206854434172056008287532064027747841065966904445441383140090101907949787007569881083774339570409*x3**4/127722629530337022070641665864368964465786749697111391527837363580161215315044811338727221888640530018098828795650237041903083190832293009 - 6488210286158000349257985789852863979891078254644240607454838569376134905865904176714968596557005310826798183001267404665046865255034893702681*x3**3/127722629530337022070641665864368964465786749697111391527837363580161215315044811338727221888640530018098828795650237041903083190832293009 - 1959651176875775777506744427199459453845574381890573269281845129629734848598782965792359544728427237549924640830411415593249086168630206239075*x3**2/85148419686891348047094443909579309643857833131407594351891575720107476876696540892484814592427020012065885863766824694602055460554862006 - 185950963659402351366345416049695231674680243898217310082265194964152384995453029885268795403760836164881161721245347447876910996872717311549*x3/28382806562297116015698147969859769881285944377135864783963858573369158958898846964161604864142340004021961954588941564867351820184954002 - 3050118520101040437717725529188315072552138378324724537565722310277707506157108085625662501423322956735372987445858661909227434634040807/3256029202970874844063112076386345059227480139627838107601681607590817822519083051985959029957822645866922330456457676364271173590106\n",
      "x3**27 + 27*x3**26 + 10869*x3**25/31 + 90512*x3**24/31 + 16855938*x3**23/961 + 77894956*x3**22/961 + 8939942116*x3**21/29791 + 27286578440*x3**20/29791 + 2177309027079*x3**19/923521 + 4819716155074*x3**18/923521 + 288850208505627*x3**17/28629151 + 489938531915463*x3**16/28629151 + 22187114487786877*x3**15/887503681 + 26220130087501071*x3**14/887503681 + 642027758548957903*x3**13/27512614111 - 7933635638518193*x3**12/27512614111 - 33251344682859128188*x3**11/852891037441 - 64953408377744241118*x3**10/852891037441 - 2335701851862179402517*x3**9/26439622160671 - 1683424894903818500918*x3**8/26439622160671 - 381686735872790771329*x3**7/26439622160671 + 822117943519672659350*x3**6/26439622160671 + 1351451757744620643433*x3**5/26439622160671 + 1183736376408231057786*x3**4/26439622160671 + 703501122684518887899*x3**3/26439622160671 + 290200666762975311009*x3**2/26439622160671 + 77563141342866276606*x3/26439622160671 + 10733274579932530317/26439622160671\n",
      "\n",
      "Solutions for x1, x2, x3:\n",
      "[(1, 2, 1)]\n"
     ]
    }
   ],
   "source": [
    "print(\"Gröbner Basis:\")\n",
    "for g in grobner_basis:\n",
    "    print(g)\n",
    "\n",
    "print(\"\\nSolutions for x1, x2, x3:\")\n",
    "print(solutions)"
   ]
  },
  {
   "cell_type": "code",
   "execution_count": null,
   "metadata": {},
   "outputs": [],
   "source": []
  }
 ],
 "metadata": {
  "colab": {
   "provenance": []
  },
  "kernelspec": {
   "display_name": "Python 3 (ipykernel)",
   "language": "python",
   "name": "python3"
  },
  "language_info": {
   "codemirror_mode": {
    "name": "ipython",
    "version": 3
   },
   "file_extension": ".py",
   "mimetype": "text/x-python",
   "name": "python",
   "nbconvert_exporter": "python",
   "pygments_lexer": "ipython3",
   "version": "3.8.10"
  }
 },
 "nbformat": 4,
 "nbformat_minor": 4
}
